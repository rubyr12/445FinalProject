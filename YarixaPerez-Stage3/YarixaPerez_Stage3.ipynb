{
 "cells": [
  {
   "cell_type": "markdown",
   "id": "b42a4878-f1e4-4bcd-acc5-7ce6b72d90f8",
   "metadata": {},
   "source": [
    "# Stage 3"
   ]
  },
  {
   "cell_type": "markdown",
   "id": "6161985c-2ea2-4631-b970-6fe3986a2b50",
   "metadata": {},
   "source": [
    "# Dataset Preview"
   ]
  },
  {
   "cell_type": "code",
   "execution_count": 48,
   "id": "c257160c-feec-4ac3-a457-6c1fddbead37",
   "metadata": {},
   "outputs": [],
   "source": [
    "import pandas as pd\n",
    "\n",
    "# Load dataset\n",
    "temperature_df = pd.read_csv(\"update_temperature.csv\")\n",
    "\n",
    "# Convert 'Year' column to numeric in case it's not\n",
    "temperature_df['Year'] = pd.to_numeric(temperature_df['Year'], errors='coerce')"
   ]
  },
  {
   "cell_type": "markdown",
   "id": "a527153b-60b2-43ee-9490-b4120d78a3ac",
   "metadata": {},
   "source": [
    "# Visualization 1 - Global Average Renewable Energy Usage (2000-2025)"
   ]
  },
  {
   "cell_type": "code",
   "execution_count": 18,
   "id": "6baf30c0-902b-46d7-b88e-24076be289a0",
   "metadata": {},
   "outputs": [
    {
     "data": {
      "application/vnd.plotly.v1+json": {
       "config": {
        "plotlyServerURL": "https://plot.ly"
       },
       "data": [
        {
         "hovertemplate": "Year=%{x}<br>Renewable Energy (%)=%{y}<extra></extra>",
         "legendgroup": "",
         "line": {
          "color": "green",
          "dash": "solid"
         },
         "marker": {
          "symbol": "circle"
         },
         "mode": "lines+markers",
         "name": "",
         "orientation": "v",
         "showlegend": false,
         "type": "scatter",
         "x": [
          2000,
          2005,
          2010,
          2015,
          2020,
          2024
         ],
         "xaxis": "x",
         "y": [
          25.357692307692307,
          26.13076923076923,
          27.976923076923075,
          31.361538461538462,
          36.69230769230769,
          39.70384615384615
         ],
         "yaxis": "y"
        }
       ],
       "layout": {
        "font": {
         "family": "Times New Roman",
         "size": 14
        },
        "legend": {
         "tracegroupgap": 0
        },
        "template": {
         "data": {
          "bar": [
           {
            "error_x": {
             "color": "#2a3f5f"
            },
            "error_y": {
             "color": "#2a3f5f"
            },
            "marker": {
             "line": {
              "color": "white",
              "width": 0.5
             },
             "pattern": {
              "fillmode": "overlay",
              "size": 10,
              "solidity": 0.2
             }
            },
            "type": "bar"
           }
          ],
          "barpolar": [
           {
            "marker": {
             "line": {
              "color": "white",
              "width": 0.5
             },
             "pattern": {
              "fillmode": "overlay",
              "size": 10,
              "solidity": 0.2
             }
            },
            "type": "barpolar"
           }
          ],
          "carpet": [
           {
            "aaxis": {
             "endlinecolor": "#2a3f5f",
             "gridcolor": "#C8D4E3",
             "linecolor": "#C8D4E3",
             "minorgridcolor": "#C8D4E3",
             "startlinecolor": "#2a3f5f"
            },
            "baxis": {
             "endlinecolor": "#2a3f5f",
             "gridcolor": "#C8D4E3",
             "linecolor": "#C8D4E3",
             "minorgridcolor": "#C8D4E3",
             "startlinecolor": "#2a3f5f"
            },
            "type": "carpet"
           }
          ],
          "choropleth": [
           {
            "colorbar": {
             "outlinewidth": 0,
             "ticks": ""
            },
            "type": "choropleth"
           }
          ],
          "contour": [
           {
            "colorbar": {
             "outlinewidth": 0,
             "ticks": ""
            },
            "colorscale": [
             [
              0,
              "#0d0887"
             ],
             [
              0.1111111111111111,
              "#46039f"
             ],
             [
              0.2222222222222222,
              "#7201a8"
             ],
             [
              0.3333333333333333,
              "#9c179e"
             ],
             [
              0.4444444444444444,
              "#bd3786"
             ],
             [
              0.5555555555555556,
              "#d8576b"
             ],
             [
              0.6666666666666666,
              "#ed7953"
             ],
             [
              0.7777777777777778,
              "#fb9f3a"
             ],
             [
              0.8888888888888888,
              "#fdca26"
             ],
             [
              1,
              "#f0f921"
             ]
            ],
            "type": "contour"
           }
          ],
          "contourcarpet": [
           {
            "colorbar": {
             "outlinewidth": 0,
             "ticks": ""
            },
            "type": "contourcarpet"
           }
          ],
          "heatmap": [
           {
            "colorbar": {
             "outlinewidth": 0,
             "ticks": ""
            },
            "colorscale": [
             [
              0,
              "#0d0887"
             ],
             [
              0.1111111111111111,
              "#46039f"
             ],
             [
              0.2222222222222222,
              "#7201a8"
             ],
             [
              0.3333333333333333,
              "#9c179e"
             ],
             [
              0.4444444444444444,
              "#bd3786"
             ],
             [
              0.5555555555555556,
              "#d8576b"
             ],
             [
              0.6666666666666666,
              "#ed7953"
             ],
             [
              0.7777777777777778,
              "#fb9f3a"
             ],
             [
              0.8888888888888888,
              "#fdca26"
             ],
             [
              1,
              "#f0f921"
             ]
            ],
            "type": "heatmap"
           }
          ],
          "heatmapgl": [
           {
            "colorbar": {
             "outlinewidth": 0,
             "ticks": ""
            },
            "colorscale": [
             [
              0,
              "#0d0887"
             ],
             [
              0.1111111111111111,
              "#46039f"
             ],
             [
              0.2222222222222222,
              "#7201a8"
             ],
             [
              0.3333333333333333,
              "#9c179e"
             ],
             [
              0.4444444444444444,
              "#bd3786"
             ],
             [
              0.5555555555555556,
              "#d8576b"
             ],
             [
              0.6666666666666666,
              "#ed7953"
             ],
             [
              0.7777777777777778,
              "#fb9f3a"
             ],
             [
              0.8888888888888888,
              "#fdca26"
             ],
             [
              1,
              "#f0f921"
             ]
            ],
            "type": "heatmapgl"
           }
          ],
          "histogram": [
           {
            "marker": {
             "pattern": {
              "fillmode": "overlay",
              "size": 10,
              "solidity": 0.2
             }
            },
            "type": "histogram"
           }
          ],
          "histogram2d": [
           {
            "colorbar": {
             "outlinewidth": 0,
             "ticks": ""
            },
            "colorscale": [
             [
              0,
              "#0d0887"
             ],
             [
              0.1111111111111111,
              "#46039f"
             ],
             [
              0.2222222222222222,
              "#7201a8"
             ],
             [
              0.3333333333333333,
              "#9c179e"
             ],
             [
              0.4444444444444444,
              "#bd3786"
             ],
             [
              0.5555555555555556,
              "#d8576b"
             ],
             [
              0.6666666666666666,
              "#ed7953"
             ],
             [
              0.7777777777777778,
              "#fb9f3a"
             ],
             [
              0.8888888888888888,
              "#fdca26"
             ],
             [
              1,
              "#f0f921"
             ]
            ],
            "type": "histogram2d"
           }
          ],
          "histogram2dcontour": [
           {
            "colorbar": {
             "outlinewidth": 0,
             "ticks": ""
            },
            "colorscale": [
             [
              0,
              "#0d0887"
             ],
             [
              0.1111111111111111,
              "#46039f"
             ],
             [
              0.2222222222222222,
              "#7201a8"
             ],
             [
              0.3333333333333333,
              "#9c179e"
             ],
             [
              0.4444444444444444,
              "#bd3786"
             ],
             [
              0.5555555555555556,
              "#d8576b"
             ],
             [
              0.6666666666666666,
              "#ed7953"
             ],
             [
              0.7777777777777778,
              "#fb9f3a"
             ],
             [
              0.8888888888888888,
              "#fdca26"
             ],
             [
              1,
              "#f0f921"
             ]
            ],
            "type": "histogram2dcontour"
           }
          ],
          "mesh3d": [
           {
            "colorbar": {
             "outlinewidth": 0,
             "ticks": ""
            },
            "type": "mesh3d"
           }
          ],
          "parcoords": [
           {
            "line": {
             "colorbar": {
              "outlinewidth": 0,
              "ticks": ""
             }
            },
            "type": "parcoords"
           }
          ],
          "pie": [
           {
            "automargin": true,
            "type": "pie"
           }
          ],
          "scatter": [
           {
            "fillpattern": {
             "fillmode": "overlay",
             "size": 10,
             "solidity": 0.2
            },
            "type": "scatter"
           }
          ],
          "scatter3d": [
           {
            "line": {
             "colorbar": {
              "outlinewidth": 0,
              "ticks": ""
             }
            },
            "marker": {
             "colorbar": {
              "outlinewidth": 0,
              "ticks": ""
             }
            },
            "type": "scatter3d"
           }
          ],
          "scattercarpet": [
           {
            "marker": {
             "colorbar": {
              "outlinewidth": 0,
              "ticks": ""
             }
            },
            "type": "scattercarpet"
           }
          ],
          "scattergeo": [
           {
            "marker": {
             "colorbar": {
              "outlinewidth": 0,
              "ticks": ""
             }
            },
            "type": "scattergeo"
           }
          ],
          "scattergl": [
           {
            "marker": {
             "colorbar": {
              "outlinewidth": 0,
              "ticks": ""
             }
            },
            "type": "scattergl"
           }
          ],
          "scattermapbox": [
           {
            "marker": {
             "colorbar": {
              "outlinewidth": 0,
              "ticks": ""
             }
            },
            "type": "scattermapbox"
           }
          ],
          "scatterpolar": [
           {
            "marker": {
             "colorbar": {
              "outlinewidth": 0,
              "ticks": ""
             }
            },
            "type": "scatterpolar"
           }
          ],
          "scatterpolargl": [
           {
            "marker": {
             "colorbar": {
              "outlinewidth": 0,
              "ticks": ""
             }
            },
            "type": "scatterpolargl"
           }
          ],
          "scatterternary": [
           {
            "marker": {
             "colorbar": {
              "outlinewidth": 0,
              "ticks": ""
             }
            },
            "type": "scatterternary"
           }
          ],
          "surface": [
           {
            "colorbar": {
             "outlinewidth": 0,
             "ticks": ""
            },
            "colorscale": [
             [
              0,
              "#0d0887"
             ],
             [
              0.1111111111111111,
              "#46039f"
             ],
             [
              0.2222222222222222,
              "#7201a8"
             ],
             [
              0.3333333333333333,
              "#9c179e"
             ],
             [
              0.4444444444444444,
              "#bd3786"
             ],
             [
              0.5555555555555556,
              "#d8576b"
             ],
             [
              0.6666666666666666,
              "#ed7953"
             ],
             [
              0.7777777777777778,
              "#fb9f3a"
             ],
             [
              0.8888888888888888,
              "#fdca26"
             ],
             [
              1,
              "#f0f921"
             ]
            ],
            "type": "surface"
           }
          ],
          "table": [
           {
            "cells": {
             "fill": {
              "color": "#EBF0F8"
             },
             "line": {
              "color": "white"
             }
            },
            "header": {
             "fill": {
              "color": "#C8D4E3"
             },
             "line": {
              "color": "white"
             }
            },
            "type": "table"
           }
          ]
         },
         "layout": {
          "annotationdefaults": {
           "arrowcolor": "#2a3f5f",
           "arrowhead": 0,
           "arrowwidth": 1
          },
          "autotypenumbers": "strict",
          "coloraxis": {
           "colorbar": {
            "outlinewidth": 0,
            "ticks": ""
           }
          },
          "colorscale": {
           "diverging": [
            [
             0,
             "#8e0152"
            ],
            [
             0.1,
             "#c51b7d"
            ],
            [
             0.2,
             "#de77ae"
            ],
            [
             0.3,
             "#f1b6da"
            ],
            [
             0.4,
             "#fde0ef"
            ],
            [
             0.5,
             "#f7f7f7"
            ],
            [
             0.6,
             "#e6f5d0"
            ],
            [
             0.7,
             "#b8e186"
            ],
            [
             0.8,
             "#7fbc41"
            ],
            [
             0.9,
             "#4d9221"
            ],
            [
             1,
             "#276419"
            ]
           ],
           "sequential": [
            [
             0,
             "#0d0887"
            ],
            [
             0.1111111111111111,
             "#46039f"
            ],
            [
             0.2222222222222222,
             "#7201a8"
            ],
            [
             0.3333333333333333,
             "#9c179e"
            ],
            [
             0.4444444444444444,
             "#bd3786"
            ],
            [
             0.5555555555555556,
             "#d8576b"
            ],
            [
             0.6666666666666666,
             "#ed7953"
            ],
            [
             0.7777777777777778,
             "#fb9f3a"
            ],
            [
             0.8888888888888888,
             "#fdca26"
            ],
            [
             1,
             "#f0f921"
            ]
           ],
           "sequentialminus": [
            [
             0,
             "#0d0887"
            ],
            [
             0.1111111111111111,
             "#46039f"
            ],
            [
             0.2222222222222222,
             "#7201a8"
            ],
            [
             0.3333333333333333,
             "#9c179e"
            ],
            [
             0.4444444444444444,
             "#bd3786"
            ],
            [
             0.5555555555555556,
             "#d8576b"
            ],
            [
             0.6666666666666666,
             "#ed7953"
            ],
            [
             0.7777777777777778,
             "#fb9f3a"
            ],
            [
             0.8888888888888888,
             "#fdca26"
            ],
            [
             1,
             "#f0f921"
            ]
           ]
          },
          "colorway": [
           "#636efa",
           "#EF553B",
           "#00cc96",
           "#ab63fa",
           "#FFA15A",
           "#19d3f3",
           "#FF6692",
           "#B6E880",
           "#FF97FF",
           "#FECB52"
          ],
          "font": {
           "color": "#2a3f5f"
          },
          "geo": {
           "bgcolor": "white",
           "lakecolor": "white",
           "landcolor": "white",
           "showlakes": true,
           "showland": true,
           "subunitcolor": "#C8D4E3"
          },
          "hoverlabel": {
           "align": "left"
          },
          "hovermode": "closest",
          "mapbox": {
           "style": "light"
          },
          "paper_bgcolor": "white",
          "plot_bgcolor": "white",
          "polar": {
           "angularaxis": {
            "gridcolor": "#EBF0F8",
            "linecolor": "#EBF0F8",
            "ticks": ""
           },
           "bgcolor": "white",
           "radialaxis": {
            "gridcolor": "#EBF0F8",
            "linecolor": "#EBF0F8",
            "ticks": ""
           }
          },
          "scene": {
           "xaxis": {
            "backgroundcolor": "white",
            "gridcolor": "#DFE8F3",
            "gridwidth": 2,
            "linecolor": "#EBF0F8",
            "showbackground": true,
            "ticks": "",
            "zerolinecolor": "#EBF0F8"
           },
           "yaxis": {
            "backgroundcolor": "white",
            "gridcolor": "#DFE8F3",
            "gridwidth": 2,
            "linecolor": "#EBF0F8",
            "showbackground": true,
            "ticks": "",
            "zerolinecolor": "#EBF0F8"
           },
           "zaxis": {
            "backgroundcolor": "white",
            "gridcolor": "#DFE8F3",
            "gridwidth": 2,
            "linecolor": "#EBF0F8",
            "showbackground": true,
            "ticks": "",
            "zerolinecolor": "#EBF0F8"
           }
          },
          "shapedefaults": {
           "line": {
            "color": "#2a3f5f"
           }
          },
          "ternary": {
           "aaxis": {
            "gridcolor": "#DFE8F3",
            "linecolor": "#A2B1C6",
            "ticks": ""
           },
           "baxis": {
            "gridcolor": "#DFE8F3",
            "linecolor": "#A2B1C6",
            "ticks": ""
           },
           "bgcolor": "white",
           "caxis": {
            "gridcolor": "#DFE8F3",
            "linecolor": "#A2B1C6",
            "ticks": ""
           }
          },
          "title": {
           "x": 0.05
          },
          "xaxis": {
           "automargin": true,
           "gridcolor": "#EBF0F8",
           "linecolor": "#EBF0F8",
           "ticks": "",
           "title": {
            "standoff": 15
           },
           "zerolinecolor": "#EBF0F8",
           "zerolinewidth": 2
          },
          "yaxis": {
           "automargin": true,
           "gridcolor": "#EBF0F8",
           "linecolor": "#EBF0F8",
           "ticks": "",
           "title": {
            "standoff": 15
           },
           "zerolinecolor": "#EBF0F8",
           "zerolinewidth": 2
          }
         }
        },
        "title": {
         "font": {
          "family": "Times New Roman",
          "size": 16
         },
         "text": "Global Average Renewable Energy Usage Over Time (2000–2025)"
        },
        "xaxis": {
         "anchor": "y",
         "domain": [
          0,
          1
         ],
         "title": {
          "font": {
           "family": "Times New Roman",
           "size": 14
          },
          "text": "Year"
         }
        },
        "yaxis": {
         "anchor": "x",
         "domain": [
          0,
          1
         ],
         "title": {
          "font": {
           "family": "Times New Roman",
           "size": 14
          },
          "text": "Renewable Energy (%)"
         }
        }
       }
      },
      "image/png": "[encoded data removed]",
      "text/html": [
       "<div>                            <div id=\"b25feb8c-46c9-4fd0-bdc5-775ff232cb8f\" class=\"plotly-graph-div\" style=\"height:525px; width:100%;\"></div>            <script type=\"text/javascript\">                require([\"plotly\"], function(Plotly) {                    window.PLOTLYENV=window.PLOTLYENV || {};                                    if (document.getElementById(\"b25feb8c-46c9-4fd0-bdc5-775ff232cb8f\")) {                    Plotly.newPlot(                        \"b25feb8c-46c9-4fd0-bdc5-775ff232cb8f\",                        [{\"hovertemplate\":\"Year=%{x}\\u003cbr\\u003eRenewable Energy (%)=%{y}\\u003cextra\\u003e\\u003c\\u002fextra\\u003e\",\"legendgroup\":\"\",\"line\":{\"color\":\"green\",\"dash\":\"solid\"},\"marker\":{\"symbol\":\"circle\"},\"mode\":\"lines+markers\",\"name\":\"\",\"orientation\":\"v\",\"showlegend\":false,\"x\":[2000,2005,2010,2015,2020,2024],\"xaxis\":\"x\",\"y\":[25.357692307692307,26.13076923076923,27.976923076923075,31.361538461538462,36.69230769230769,39.70384615384615],\"yaxis\":\"y\",\"type\":\"scatter\"}],                        {\"template\":{\"data\":{\"barpolar\":[{\"marker\":{\"line\":{\"color\":\"white\",\"width\":0.5},\"pattern\":{\"fillmode\":\"overlay\",\"size\":10,\"solidity\":0.2}},\"type\":\"barpolar\"}],\"bar\":[{\"error_x\":{\"color\":\"#2a3f5f\"},\"error_y\":{\"color\":\"#2a3f5f\"},\"marker\":{\"line\":{\"color\":\"white\",\"width\":0.5},\"pattern\":{\"fillmode\":\"overlay\",\"size\":10,\"solidity\":0.2}},\"type\":\"bar\"}],\"carpet\":[{\"aaxis\":{\"endlinecolor\":\"#2a3f5f\",\"gridcolor\":\"#C8D4E3\",\"linecolor\":\"#C8D4E3\",\"minorgridcolor\":\"#C8D4E3\",\"startlinecolor\":\"#2a3f5f\"},\"baxis\":{\"endlinecolor\":\"#2a3f5f\",\"gridcolor\":\"#C8D4E3\",\"linecolor\":\"#C8D4E3\",\"minorgridcolor\":\"#C8D4E3\",\"startlinecolor\":\"#2a3f5f\"},\"type\":\"carpet\"}],\"choropleth\":[{\"colorbar\":{\"outlinewidth\":0,\"ticks\":\"\"},\"type\":\"choropleth\"}],\"contourcarpet\":[{\"colorbar\":{\"outlinewidth\":0,\"ticks\":\"\"},\"type\":\"contourcarpet\"}],\"contour\":[{\"colorbar\":{\"outlinewidth\":0,\"ticks\":\"\"},\"colorscale\":[[0.0,\"#0d0887\"],[0.1111111111111111,\"#46039f\"],[0.2222222222222222,\"#7201a8\"],[0.3333333333333333,\"#9c179e\"],[0.4444444444444444,\"#bd3786\"],[0.5555555555555556,\"#d8576b\"],[0.6666666666666666,\"#ed7953\"],[0.7777777777777778,\"#fb9f3a\"],[0.8888888888888888,\"#fdca26\"],[1.0,\"#f0f921\"]],\"type\":\"contour\"}],\"heatmapgl\":[{\"colorbar\":{\"outlinewidth\":0,\"ticks\":\"\"},\"colorscale\":[[0.0,\"#0d0887\"],[0.1111111111111111,\"#46039f\"],[0.2222222222222222,\"#7201a8\"],[0.3333333333333333,\"#9c179e\"],[0.4444444444444444,\"#bd3786\"],[0.5555555555555556,\"#d8576b\"],[0.6666666666666666,\"#ed7953\"],[0.7777777777777778,\"#fb9f3a\"],[0.8888888888888888,\"#fdca26\"],[1.0,\"#f0f921\"]],\"type\":\"heatmapgl\"}],\"heatmap\":[{\"colorbar\":{\"outlinewidth\":0,\"ticks\":\"\"},\"colorscale\":[[0.0,\"#0d0887\"],[0.1111111111111111,\"#46039f\"],[0.2222222222222222,\"#7201a8\"],[0.3333333333333333,\"#9c179e\"],[0.4444444444444444,\"#bd3786\"],[0.5555555555555556,\"#d8576b\"],[0.6666666666666666,\"#ed7953\"],[0.7777777777777778,\"#fb9f3a\"],[0.8888888888888888,\"#fdca26\"],[1.0,\"#f0f921\"]],\"type\":\"heatmap\"}],\"histogram2dcontour\":[{\"colorbar\":{\"outlinewidth\":0,\"ticks\":\"\"},\"colorscale\":[[0.0,\"#0d0887\"],[0.1111111111111111,\"#46039f\"],[0.2222222222222222,\"#7201a8\"],[0.3333333333333333,\"#9c179e\"],[0.4444444444444444,\"#bd3786\"],[0.5555555555555556,\"#d8576b\"],[0.6666666666666666,\"#ed7953\"],[0.7777777777777778,\"#fb9f3a\"],[0.8888888888888888,\"#fdca26\"],[1.0,\"#f0f921\"]],\"type\":\"histogram2dcontour\"}],\"histogram2d\":[{\"colorbar\":{\"outlinewidth\":0,\"ticks\":\"\"},\"colorscale\":[[0.0,\"#0d0887\"],[0.1111111111111111,\"#46039f\"],[0.2222222222222222,\"#7201a8\"],[0.3333333333333333,\"#9c179e\"],[0.4444444444444444,\"#bd3786\"],[0.5555555555555556,\"#d8576b\"],[0.6666666666666666,\"#ed7953\"],[0.7777777777777778,\"#fb9f3a\"],[0.8888888888888888,\"#fdca26\"],[1.0,\"#f0f921\"]],\"type\":\"histogram2d\"}],\"histogram\":[{\"marker\":{\"pattern\":{\"fillmode\":\"overlay\",\"size\":10,\"solidity\":0.2}},\"type\":\"histogram\"}],\"mesh3d\":[{\"colorbar\":{\"outlinewidth\":0,\"ticks\":\"\"},\"type\":\"mesh3d\"}],\"parcoords\":[{\"line\":{\"colorbar\":{\"outlinewidth\":0,\"ticks\":\"\"}},\"type\":\"parcoords\"}],\"pie\":[{\"automargin\":true,\"type\":\"pie\"}],\"scatter3d\":[{\"line\":{\"colorbar\":{\"outlinewidth\":0,\"ticks\":\"\"}},\"marker\":{\"colorbar\":{\"outlinewidth\":0,\"ticks\":\"\"}},\"type\":\"scatter3d\"}],\"scattercarpet\":[{\"marker\":{\"colorbar\":{\"outlinewidth\":0,\"ticks\":\"\"}},\"type\":\"scattercarpet\"}],\"scattergeo\":[{\"marker\":{\"colorbar\":{\"outlinewidth\":0,\"ticks\":\"\"}},\"type\":\"scattergeo\"}],\"scattergl\":[{\"marker\":{\"colorbar\":{\"outlinewidth\":0,\"ticks\":\"\"}},\"type\":\"scattergl\"}],\"scattermapbox\":[{\"marker\":{\"colorbar\":{\"outlinewidth\":0,\"ticks\":\"\"}},\"type\":\"scattermapbox\"}],\"scatterpolargl\":[{\"marker\":{\"colorbar\":{\"outlinewidth\":0,\"ticks\":\"\"}},\"type\":\"scatterpolargl\"}],\"scatterpolar\":[{\"marker\":{\"colorbar\":{\"outlinewidth\":0,\"ticks\":\"\"}},\"type\":\"scatterpolar\"}],\"scatter\":[{\"fillpattern\":{\"fillmode\":\"overlay\",\"size\":10,\"solidity\":0.2},\"type\":\"scatter\"}],\"scatterternary\":[{\"marker\":{\"colorbar\":{\"outlinewidth\":0,\"ticks\":\"\"}},\"type\":\"scatterternary\"}],\"surface\":[{\"colorbar\":{\"outlinewidth\":0,\"ticks\":\"\"},\"colorscale\":[[0.0,\"#0d0887\"],[0.1111111111111111,\"#46039f\"],[0.2222222222222222,\"#7201a8\"],[0.3333333333333333,\"#9c179e\"],[0.4444444444444444,\"#bd3786\"],[0.5555555555555556,\"#d8576b\"],[0.6666666666666666,\"#ed7953\"],[0.7777777777777778,\"#fb9f3a\"],[0.8888888888888888,\"#fdca26\"],[1.0,\"#f0f921\"]],\"type\":\"surface\"}],\"table\":[{\"cells\":{\"fill\":{\"color\":\"#EBF0F8\"},\"line\":{\"color\":\"white\"}},\"header\":{\"fill\":{\"color\":\"#C8D4E3\"},\"line\":{\"color\":\"white\"}},\"type\":\"table\"}]},\"layout\":{\"annotationdefaults\":{\"arrowcolor\":\"#2a3f5f\",\"arrowhead\":0,\"arrowwidth\":1},\"autotypenumbers\":\"strict\",\"coloraxis\":{\"colorbar\":{\"outlinewidth\":0,\"ticks\":\"\"}},\"colorscale\":{\"diverging\":[[0,\"#8e0152\"],[0.1,\"#c51b7d\"],[0.2,\"#de77ae\"],[0.3,\"#f1b6da\"],[0.4,\"#fde0ef\"],[0.5,\"#f7f7f7\"],[0.6,\"#e6f5d0\"],[0.7,\"#b8e186\"],[0.8,\"#7fbc41\"],[0.9,\"#4d9221\"],[1,\"#276419\"]],\"sequential\":[[0.0,\"#0d0887\"],[0.1111111111111111,\"#46039f\"],[0.2222222222222222,\"#7201a8\"],[0.3333333333333333,\"#9c179e\"],[0.4444444444444444,\"#bd3786\"],[0.5555555555555556,\"#d8576b\"],[0.6666666666666666,\"#ed7953\"],[0.7777777777777778,\"#fb9f3a\"],[0.8888888888888888,\"#fdca26\"],[1.0,\"#f0f921\"]],\"sequentialminus\":[[0.0,\"#0d0887\"],[0.1111111111111111,\"#46039f\"],[0.2222222222222222,\"#7201a8\"],[0.3333333333333333,\"#9c179e\"],[0.4444444444444444,\"#bd3786\"],[0.5555555555555556,\"#d8576b\"],[0.6666666666666666,\"#ed7953\"],[0.7777777777777778,\"#fb9f3a\"],[0.8888888888888888,\"#fdca26\"],[1.0,\"#f0f921\"]]},\"colorway\":[\"#636efa\",\"#EF553B\",\"#00cc96\",\"#ab63fa\",\"#FFA15A\",\"#19d3f3\",\"#FF6692\",\"#B6E880\",\"#FF97FF\",\"#FECB52\"],\"font\":{\"color\":\"#2a3f5f\"},\"geo\":{\"bgcolor\":\"white\",\"lakecolor\":\"white\",\"landcolor\":\"white\",\"showlakes\":true,\"showland\":true,\"subunitcolor\":\"#C8D4E3\"},\"hoverlabel\":{\"align\":\"left\"},\"hovermode\":\"closest\",\"mapbox\":{\"style\":\"light\"},\"paper_bgcolor\":\"white\",\"plot_bgcolor\":\"white\",\"polar\":{\"angularaxis\":{\"gridcolor\":\"#EBF0F8\",\"linecolor\":\"#EBF0F8\",\"ticks\":\"\"},\"bgcolor\":\"white\",\"radialaxis\":{\"gridcolor\":\"#EBF0F8\",\"linecolor\":\"#EBF0F8\",\"ticks\":\"\"}},\"scene\":{\"xaxis\":{\"backgroundcolor\":\"white\",\"gridcolor\":\"#DFE8F3\",\"gridwidth\":2,\"linecolor\":\"#EBF0F8\",\"showbackground\":true,\"ticks\":\"\",\"zerolinecolor\":\"#EBF0F8\"},\"yaxis\":{\"backgroundcolor\":\"white\",\"gridcolor\":\"#DFE8F3\",\"gridwidth\":2,\"linecolor\":\"#EBF0F8\",\"showbackground\":true,\"ticks\":\"\",\"zerolinecolor\":\"#EBF0F8\"},\"zaxis\":{\"backgroundcolor\":\"white\",\"gridcolor\":\"#DFE8F3\",\"gridwidth\":2,\"linecolor\":\"#EBF0F8\",\"showbackground\":true,\"ticks\":\"\",\"zerolinecolor\":\"#EBF0F8\"}},\"shapedefaults\":{\"line\":{\"color\":\"#2a3f5f\"}},\"ternary\":{\"aaxis\":{\"gridcolor\":\"#DFE8F3\",\"linecolor\":\"#A2B1C6\",\"ticks\":\"\"},\"baxis\":{\"gridcolor\":\"#DFE8F3\",\"linecolor\":\"#A2B1C6\",\"ticks\":\"\"},\"bgcolor\":\"white\",\"caxis\":{\"gridcolor\":\"#DFE8F3\",\"linecolor\":\"#A2B1C6\",\"ticks\":\"\"}},\"title\":{\"x\":0.05},\"xaxis\":{\"automargin\":true,\"gridcolor\":\"#EBF0F8\",\"linecolor\":\"#EBF0F8\",\"ticks\":\"\",\"title\":{\"standoff\":15},\"zerolinecolor\":\"#EBF0F8\",\"zerolinewidth\":2},\"yaxis\":{\"automargin\":true,\"gridcolor\":\"#EBF0F8\",\"linecolor\":\"#EBF0F8\",\"ticks\":\"\",\"title\":{\"standoff\":15},\"zerolinecolor\":\"#EBF0F8\",\"zerolinewidth\":2}}},\"xaxis\":{\"anchor\":\"y\",\"domain\":[0.0,1.0],\"title\":{\"text\":\"Year\",\"font\":{\"family\":\"Times New Roman\",\"size\":14}}},\"yaxis\":{\"anchor\":\"x\",\"domain\":[0.0,1.0],\"title\":{\"text\":\"Renewable Energy (%)\",\"font\":{\"family\":\"Times New Roman\",\"size\":14}}},\"legend\":{\"tracegroupgap\":0},\"title\":{\"text\":\"Global Average Renewable Energy Usage Over Time (2000\\u20132025)\",\"font\":{\"family\":\"Times New Roman\",\"size\":16}},\"font\":{\"family\":\"Times New Roman\",\"size\":14}},                        {\"responsive\": true}                    ).then(function(){\n",
       "                            \n",
       "var gd = document.getElementById('b25feb8c-46c9-4fd0-bdc5-775ff232cb8f');\n",
       "var x = new MutationObserver(function (mutations, observer) {{\n",
       "        var display = window.getComputedStyle(gd).display;\n",
       "        if (!display || display === 'none') {{\n",
       "            console.log([gd, 'removed!']);\n",
       "            Plotly.purge(gd);\n",
       "            observer.disconnect();\n",
       "        }}\n",
       "}});\n",
       "\n",
       "// Listen for the removal of the full notebook cells\n",
       "var notebookContainer = gd.closest('#notebook-container');\n",
       "if (notebookContainer) {{\n",
       "    x.observe(notebookContainer, {childList: true});\n",
       "}}\n",
       "\n",
       "// Listen for the clearing of the current output cell\n",
       "var outputEl = gd.closest('.output');\n",
       "if (outputEl) {{\n",
       "    x.observe(outputEl, {childList: true});\n",
       "}}\n",
       "\n",
       "                        })                };                });            </script>        </div>"
      ]
     },
     "metadata": {},
     "output_type": "display_data"
    }
   ],
   "source": [
    "import plotly.express as px\n",
    "\n",
    "# Calculate renewable energy average of all countries each year\n",
    "global_renewable_trend = temperature_df.groupby(\"Year\")[\"Renewable_Energy_pct\"].mean().reset_index()\n",
    "\n",
    "# Create figure\n",
    "fig = px.line(\n",
    "    global_renewable_trend,\n",
    "    x=\"Year\",\n",
    "    y=\"Renewable_Energy_pct\",\n",
    "    markers=True,\n",
    "    title=\"Global Average Renewable Energy Usage Over Time (2000–2025)\",\n",
    "    labels={\"Renewable_Energy_pct\": \"Renewable Energy (%)\"},\n",
    "    template=\"plotly_white\"\n",
    ")\n",
    "\n",
    "# Style settings\n",
    "fig.update_traces(line=dict(color='green'))\n",
    "fig.update_layout(\n",
    "    font=dict(family=\"Times New Roman\", size=14),\n",
    "    title_font=dict(family=\"Times New Roman\", size=16),\n",
    "    xaxis_title_font=dict(family=\"Times New Roman\", size=14),\n",
    "    yaxis_title_font=dict(family=\"Times New Roman\", size=14)\n",
    ")\n",
    "\n",
    "# Save as PNG\n",
    "fig.write_image(\"global_renewable_trend.png\", width=1200, height=600, scale=2)\n",
    "\n",
    "# Show interactive chart\n",
    "fig.show()"
   ]
  },
  {
   "cell_type": "markdown",
   "id": "fa78c9ed-bed3-4c9b-9e5e-20950f90c0fb",
   "metadata": {},
   "source": [
    "## Method"
   ]
  },
  {
   "cell_type": "markdown",
   "id": "d42ad5d6-62e9-40eb-bdf2-270b3506f97f",
   "metadata": {},
   "source": [
    "To understand how the world has progressed in adopting renewable energy, we focused on the percentage of each country's total energy that comes from renewable sources like wind, solar, and hydroelectric power. Rather than examining individual countries, we looked at the average across all countries for each year from 2000 to 2025. This gives us a high-level view of global progress, smoothing out regional differences and highlighting broader trends."
   ]
  },
  {
   "cell_type": "markdown",
   "id": "d4b43de8-0d90-4361-b51e-bedaa588c21d",
   "metadata": {},
   "source": [
    "Once these yearly averages were calculated, we plotted them on a timeline to create a line chart. This chart visually communicates how renewable energy use has changed over time. Each point on the line represents the global average for that year, allowing us to quickly see whether the world is moving toward cleaner energy and how fast."
   ]
  },
  {
   "cell_type": "markdown",
   "id": "9ed8fba2-afb9-4a0e-b4cf-bb810dfe5630",
   "metadata": {},
   "source": [
    "## Explanation"
   ]
  },
  {
   "cell_type": "markdown",
   "id": "59765133-7229-4882-b1fc-d6a57dacc3ce",
   "metadata": {},
   "source": [
    "This chart visualizes the use of renewable energy through by global average percentage. It aggregates data across all countries for each year from 2000 to 2025. Each point on the line represents the average renewable energy contribution to a country’s energy profile for that specific year."
   ]
  },
  {
   "cell_type": "markdown",
   "id": "c323d85b-60b5-498d-9c32-910f4968d0b4",
   "metadata": {},
   "source": [
    "There is a consistent upward trend, indicating global efforts to transition toward cleaner energy sources are gradually succeeding. A rising line indicates increased global adoption of renewables like solar, wind, and hydro power, often driven by climate policies, technological improvements, and public awareness.\n",
    "\n",
    "- A sharp rise may coincide with international climate agreements\n",
    "- A flat or declining period may point to stalled policy momentum or increased fossil fuel reliance"
   ]
  },
  {
   "cell_type": "markdown",
   "id": "ba394f0f-44bf-4aac-ada6-06b730042972",
   "metadata": {},
   "source": [
    "Chart helps us:\n",
    "- Evaluate the effectiveness of past global sustainability efforts.\n",
    "- Identify inflection points that may correspond with major events or technological breakthroughs.\n",
    "- Advocate for continued or accelerated investment in renewable energy systems."
   ]
  },
  {
   "cell_type": "markdown",
   "id": "6f731da1-50ae-49b9-9b79-cb75d344cdaf",
   "metadata": {},
   "source": [
    "# Visualization 2 - Distribution of Renewable Energy Usage by Country"
   ]
  },
  {
   "cell_type": "code",
   "execution_count": 24,
   "id": "2305048b-308e-41ab-9c95-7ade835019b2",
   "metadata": {},
   "outputs": [
    {
     "data": {
      "application/vnd.plotly.v1+json": {
       "config": {
        "plotlyServerURL": "https://plot.ly"
       },
       "data": [
        {
         "branchvalues": "total",
         "customdata": [
          [
           31.093225806451617
          ],
          [
           85.45494441193682
          ],
          [
           67.8
          ],
          [
           32.73667180277349
          ],
          [
           20.7
          ],
          [
           49.42677484787018
          ],
          [
           38.15116279069768
          ],
          [
           36.9
          ],
          [
           43.9
          ],
          [
           22.5
          ],
          [
           19.2
          ],
          [
           81.35371850030732
          ],
          [
           21.372985781990522
          ],
          [
           1.4
          ],
          [
           15.8
          ],
          [
           11.600000000000001
          ],
          [
           46.7
          ],
          [
           46.3
          ],
          [
           25.1
          ]
         ],
         "domain": {
          "x": [
           0,
           1
          ],
          "y": [
           0,
           1
          ]
         },
         "hovertemplate": "labels=%{label}<br>Renewable_Energy_pct_sum=%{value}<br>parent=%{parent}<br>id=%{id}<br>Renewable_Energy_pct=%{color}<extra></extra>",
         "ids": [
          "Australia",
          "Brazil",
          "Canada",
          "China",
          "France",
          "Germany",
          "India",
          "Indonesia",
          "Italy",
          "Japan",
          "Mexico",
          "Nigeria",
          "Russia",
          "Saudi Arabia",
          "South Africa",
          "South Korea",
          "Spain",
          "United Kingdom",
          "United States"
         ],
         "labels": [
          "Australia",
          "Brazil",
          "Canada",
          "China",
          "France",
          "Germany",
          "India",
          "Indonesia",
          "Italy",
          "Japan",
          "Mexico",
          "Nigeria",
          "Russia",
          "Saudi Arabia",
          "South Africa",
          "South Korea",
          "Spain",
          "United Kingdom",
          "United States"
         ],
         "marker": {
          "coloraxis": "coloraxis",
          "colors": [
           31.093225806451617,
           85.45494441193682,
           67.8,
           32.73667180277349,
           20.7,
           49.42677484787018,
           38.15116279069768,
           36.9,
           43.9,
           22.5,
           19.2,
           81.35371850030732,
           21.372985781990522,
           1.4,
           15.8,
           11.600000000000001,
           46.7,
           46.3,
           25.1
          ]
         },
         "name": "",
         "parents": [
          "",
          "",
          "",
          "",
          "",
          "",
          "",
          "",
          "",
          "",
          "",
          "",
          "",
          "",
          "",
          "",
          "",
          "",
          ""
         ],
         "type": "treemap",
         "values": [
          62,
          170.89999999999998,
          67.8,
          64.9,
          20.7,
          98.6,
          73.1,
          36.9,
          43.9,
          22.5,
          19.2,
          162.7,
          42.2,
          1.4,
          15.8,
          11.6,
          46.7,
          46.3,
          25.1
         ]
        }
       ],
       "layout": {
        "coloraxis": {
         "colorbar": {
          "title": {
           "text": "Renewable_Energy_pct"
          }
         },
         "colorscale": [
          [
           0,
           "rgb(247,252,245)"
          ],
          [
           0.125,
           "rgb(229,245,224)"
          ],
          [
           0.25,
           "rgb(199,233,192)"
          ],
          [
           0.375,
           "rgb(161,217,155)"
          ],
          [
           0.5,
           "rgb(116,196,118)"
          ],
          [
           0.625,
           "rgb(65,171,93)"
          ],
          [
           0.75,
           "rgb(35,139,69)"
          ],
          [
           0.875,
           "rgb(0,109,44)"
          ],
          [
           1,
           "rgb(0,68,27)"
          ]
         ]
        },
        "font": {
         "color": "#111111",
         "family": "Times New Roman",
         "size": 14
        },
        "height": 650,
        "legend": {
         "tracegroupgap": 0
        },
        "template": {
         "data": {
          "candlestick": [
           {
            "decreasing": {
             "line": {
              "color": "#000033"
             }
            },
            "increasing": {
             "line": {
              "color": "#000032"
             }
            },
            "type": "candlestick"
           }
          ],
          "contour": [
           {
            "colorscale": [
             [
              0,
              "#000011"
             ],
             [
              0.1111111111111111,
              "#000012"
             ],
             [
              0.2222222222222222,
              "#000013"
             ],
             [
              0.3333333333333333,
              "#000014"
             ],
             [
              0.4444444444444444,
              "#000015"
             ],
             [
              0.5555555555555556,
              "#000016"
             ],
             [
              0.6666666666666666,
              "#000017"
             ],
             [
              0.7777777777777778,
              "#000018"
             ],
             [
              0.8888888888888888,
              "#000019"
             ],
             [
              1,
              "#000020"
             ]
            ],
            "type": "contour"
           }
          ],
          "contourcarpet": [
           {
            "colorscale": [
             [
              0,
              "#000011"
             ],
             [
              0.1111111111111111,
              "#000012"
             ],
             [
              0.2222222222222222,
              "#000013"
             ],
             [
              0.3333333333333333,
              "#000014"
             ],
             [
              0.4444444444444444,
              "#000015"
             ],
             [
              0.5555555555555556,
              "#000016"
             ],
             [
              0.6666666666666666,
              "#000017"
             ],
             [
              0.7777777777777778,
              "#000018"
             ],
             [
              0.8888888888888888,
              "#000019"
             ],
             [
              1,
              "#000020"
             ]
            ],
            "type": "contourcarpet"
           }
          ],
          "heatmap": [
           {
            "colorscale": [
             [
              0,
              "#000011"
             ],
             [
              0.1111111111111111,
              "#000012"
             ],
             [
              0.2222222222222222,
              "#000013"
             ],
             [
              0.3333333333333333,
              "#000014"
             ],
             [
              0.4444444444444444,
              "#000015"
             ],
             [
              0.5555555555555556,
              "#000016"
             ],
             [
              0.6666666666666666,
              "#000017"
             ],
             [
              0.7777777777777778,
              "#000018"
             ],
             [
              0.8888888888888888,
              "#000019"
             ],
             [
              1,
              "#000020"
             ]
            ],
            "type": "heatmap"
           }
          ],
          "histogram2d": [
           {
            "colorscale": [
             [
              0,
              "#000011"
             ],
             [
              0.1111111111111111,
              "#000012"
             ],
             [
              0.2222222222222222,
              "#000013"
             ],
             [
              0.3333333333333333,
              "#000014"
             ],
             [
              0.4444444444444444,
              "#000015"
             ],
             [
              0.5555555555555556,
              "#000016"
             ],
             [
              0.6666666666666666,
              "#000017"
             ],
             [
              0.7777777777777778,
              "#000018"
             ],
             [
              0.8888888888888888,
              "#000019"
             ],
             [
              1,
              "#000020"
             ]
            ],
            "type": "histogram2d"
           }
          ],
          "icicle": [
           {
            "textfont": {
             "color": "white"
            },
            "type": "icicle"
           }
          ],
          "sankey": [
           {
            "textfont": {
             "color": "#000036"
            },
            "type": "sankey"
           }
          ],
          "scatter": [
           {
            "marker": {
             "line": {
              "width": 0
             }
            },
            "type": "scatter"
           }
          ],
          "table": [
           {
            "cells": {
             "fill": {
              "color": "#000038"
             },
             "font": {
              "color": "#000037"
             },
             "line": {
              "color": "#000039"
             }
            },
            "header": {
             "fill": {
              "color": "#000040"
             },
             "font": {
              "color": "#000036"
             },
             "line": {
              "color": "#000039"
             }
            },
            "type": "table"
           }
          ],
          "waterfall": [
           {
            "connector": {
             "line": {
              "color": "#000036",
              "width": 2
             }
            },
            "decreasing": {
             "marker": {
              "color": "#000033"
             }
            },
            "increasing": {
             "marker": {
              "color": "#000032"
             }
            },
            "totals": {
             "marker": {
              "color": "#000034"
             }
            },
            "type": "waterfall"
           }
          ]
         },
         "layout": {
          "coloraxis": {
           "colorscale": [
            [
             0,
             "#000011"
            ],
            [
             0.1111111111111111,
             "#000012"
            ],
            [
             0.2222222222222222,
             "#000013"
            ],
            [
             0.3333333333333333,
             "#000014"
            ],
            [
             0.4444444444444444,
             "#000015"
            ],
            [
             0.5555555555555556,
             "#000016"
            ],
            [
             0.6666666666666666,
             "#000017"
            ],
            [
             0.7777777777777778,
             "#000018"
            ],
            [
             0.8888888888888888,
             "#000019"
            ],
            [
             1,
             "#000020"
            ]
           ]
          },
          "colorscale": {
           "diverging": [
            [
             0,
             "#000021"
            ],
            [
             0.1,
             "#000022"
            ],
            [
             0.2,
             "#000023"
            ],
            [
             0.3,
             "#000024"
            ],
            [
             0.4,
             "#000025"
            ],
            [
             0.5,
             "#000026"
            ],
            [
             0.6,
             "#000027"
            ],
            [
             0.7,
             "#000028"
            ],
            [
             0.8,
             "#000029"
            ],
            [
             0.9,
             "#000030"
            ],
            [
             1,
             "#000031"
            ]
           ],
           "sequential": [
            [
             0,
             "#000011"
            ],
            [
             0.1111111111111111,
             "#000012"
            ],
            [
             0.2222222222222222,
             "#000013"
            ],
            [
             0.3333333333333333,
             "#000014"
            ],
            [
             0.4444444444444444,
             "#000015"
            ],
            [
             0.5555555555555556,
             "#000016"
            ],
            [
             0.6666666666666666,
             "#000017"
            ],
            [
             0.7777777777777778,
             "#000018"
            ],
            [
             0.8888888888888888,
             "#000019"
            ],
            [
             1,
             "#000020"
            ]
           ],
           "sequentialminus": [
            [
             0,
             "#000011"
            ],
            [
             0.1111111111111111,
             "#000012"
            ],
            [
             0.2222222222222222,
             "#000013"
            ],
            [
             0.3333333333333333,
             "#000014"
            ],
            [
             0.4444444444444444,
             "#000015"
            ],
            [
             0.5555555555555556,
             "#000016"
            ],
            [
             0.6666666666666666,
             "#000017"
            ],
            [
             0.7777777777777778,
             "#000018"
            ],
            [
             0.8888888888888888,
             "#000019"
            ],
            [
             1,
             "#000020"
            ]
           ]
          },
          "colorway": [
           "#000001",
           "#000002",
           "#000003",
           "#000004",
           "#000005",
           "#000006",
           "#000007",
           "#000008",
           "#000009",
           "#000010"
          ]
         }
        },
        "title": {
         "font": {
          "color": "#111111",
          "family": "Times New Roman",
          "size": 18
         },
         "text": "Renewable Energy Contribution by Country (2024)"
        },
        "width": 1000
       }
      },
      "image/png": "[encoded data removed]",
      "text/html": [
       "<div>                            <div id=\"4beb348d-755e-497b-b545-699746ef8bbd\" class=\"plotly-graph-div\" style=\"height:650px; width:1000px;\"></div>            <script type=\"text/javascript\">                require([\"plotly\"], function(Plotly) {                    window.PLOTLYENV=window.PLOTLYENV || {};                                    if (document.getElementById(\"4beb348d-755e-497b-b545-699746ef8bbd\")) {                    Plotly.newPlot(                        \"4beb348d-755e-497b-b545-699746ef8bbd\",                        [{\"branchvalues\":\"total\",\"customdata\":[[31.093225806451617],[85.45494441193682],[67.8],[32.73667180277349],[20.7],[49.42677484787018],[38.15116279069768],[36.9],[43.9],[22.5],[19.2],[81.35371850030732],[21.372985781990522],[1.4],[15.8],[11.600000000000001],[46.7],[46.3],[25.1]],\"domain\":{\"x\":[0.0,1.0],\"y\":[0.0,1.0]},\"hovertemplate\":\"labels=%{label}\\u003cbr\\u003eRenewable_Energy_pct_sum=%{value}\\u003cbr\\u003eparent=%{parent}\\u003cbr\\u003eid=%{id}\\u003cbr\\u003eRenewable_Energy_pct=%{color}\\u003cextra\\u003e\\u003c\\u002fextra\\u003e\",\"ids\":[\"Australia\",\"Brazil\",\"Canada\",\"China\",\"France\",\"Germany\",\"India\",\"Indonesia\",\"Italy\",\"Japan\",\"Mexico\",\"Nigeria\",\"Russia\",\"Saudi Arabia\",\"South Africa\",\"South Korea\",\"Spain\",\"United Kingdom\",\"United States\"],\"labels\":[\"Australia\",\"Brazil\",\"Canada\",\"China\",\"France\",\"Germany\",\"India\",\"Indonesia\",\"Italy\",\"Japan\",\"Mexico\",\"Nigeria\",\"Russia\",\"Saudi Arabia\",\"South Africa\",\"South Korea\",\"Spain\",\"United Kingdom\",\"United States\"],\"marker\":{\"coloraxis\":\"coloraxis\",\"colors\":[31.093225806451617,85.45494441193682,67.8,32.73667180277349,20.7,49.42677484787018,38.15116279069768,36.9,43.9,22.5,19.2,81.35371850030732,21.372985781990522,1.4,15.8,11.600000000000001,46.7,46.3,25.1]},\"name\":\"\",\"parents\":[\"\",\"\",\"\",\"\",\"\",\"\",\"\",\"\",\"\",\"\",\"\",\"\",\"\",\"\",\"\",\"\",\"\",\"\",\"\"],\"values\":[62.0,170.89999999999998,67.8,64.9,20.7,98.6,73.1,36.9,43.9,22.5,19.2,162.7,42.2,1.4,15.8,11.6,46.7,46.3,25.1],\"type\":\"treemap\"}],                        {\"template\":{\"data\":{\"candlestick\":[{\"decreasing\":{\"line\":{\"color\":\"#000033\"}},\"increasing\":{\"line\":{\"color\":\"#000032\"}},\"type\":\"candlestick\"}],\"contourcarpet\":[{\"colorscale\":[[0.0,\"#000011\"],[0.1111111111111111,\"#000012\"],[0.2222222222222222,\"#000013\"],[0.3333333333333333,\"#000014\"],[0.4444444444444444,\"#000015\"],[0.5555555555555556,\"#000016\"],[0.6666666666666666,\"#000017\"],[0.7777777777777778,\"#000018\"],[0.8888888888888888,\"#000019\"],[1.0,\"#000020\"]],\"type\":\"contourcarpet\"}],\"contour\":[{\"colorscale\":[[0.0,\"#000011\"],[0.1111111111111111,\"#000012\"],[0.2222222222222222,\"#000013\"],[0.3333333333333333,\"#000014\"],[0.4444444444444444,\"#000015\"],[0.5555555555555556,\"#000016\"],[0.6666666666666666,\"#000017\"],[0.7777777777777778,\"#000018\"],[0.8888888888888888,\"#000019\"],[1.0,\"#000020\"]],\"type\":\"contour\"}],\"heatmap\":[{\"colorscale\":[[0.0,\"#000011\"],[0.1111111111111111,\"#000012\"],[0.2222222222222222,\"#000013\"],[0.3333333333333333,\"#000014\"],[0.4444444444444444,\"#000015\"],[0.5555555555555556,\"#000016\"],[0.6666666666666666,\"#000017\"],[0.7777777777777778,\"#000018\"],[0.8888888888888888,\"#000019\"],[1.0,\"#000020\"]],\"type\":\"heatmap\"}],\"histogram2d\":[{\"colorscale\":[[0.0,\"#000011\"],[0.1111111111111111,\"#000012\"],[0.2222222222222222,\"#000013\"],[0.3333333333333333,\"#000014\"],[0.4444444444444444,\"#000015\"],[0.5555555555555556,\"#000016\"],[0.6666666666666666,\"#000017\"],[0.7777777777777778,\"#000018\"],[0.8888888888888888,\"#000019\"],[1.0,\"#000020\"]],\"type\":\"histogram2d\"}],\"icicle\":[{\"textfont\":{\"color\":\"white\"},\"type\":\"icicle\"}],\"sankey\":[{\"textfont\":{\"color\":\"#000036\"},\"type\":\"sankey\"}],\"scatter\":[{\"marker\":{\"line\":{\"width\":0}},\"type\":\"scatter\"}],\"table\":[{\"cells\":{\"fill\":{\"color\":\"#000038\"},\"font\":{\"color\":\"#000037\"},\"line\":{\"color\":\"#000039\"}},\"header\":{\"fill\":{\"color\":\"#000040\"},\"font\":{\"color\":\"#000036\"},\"line\":{\"color\":\"#000039\"}},\"type\":\"table\"}],\"waterfall\":[{\"connector\":{\"line\":{\"color\":\"#000036\",\"width\":2}},\"decreasing\":{\"marker\":{\"color\":\"#000033\"}},\"increasing\":{\"marker\":{\"color\":\"#000032\"}},\"totals\":{\"marker\":{\"color\":\"#000034\"}},\"type\":\"waterfall\"}]},\"layout\":{\"coloraxis\":{\"colorscale\":[[0.0,\"#000011\"],[0.1111111111111111,\"#000012\"],[0.2222222222222222,\"#000013\"],[0.3333333333333333,\"#000014\"],[0.4444444444444444,\"#000015\"],[0.5555555555555556,\"#000016\"],[0.6666666666666666,\"#000017\"],[0.7777777777777778,\"#000018\"],[0.8888888888888888,\"#000019\"],[1.0,\"#000020\"]]},\"colorscale\":{\"diverging\":[[0.0,\"#000021\"],[0.1,\"#000022\"],[0.2,\"#000023\"],[0.3,\"#000024\"],[0.4,\"#000025\"],[0.5,\"#000026\"],[0.6,\"#000027\"],[0.7,\"#000028\"],[0.8,\"#000029\"],[0.9,\"#000030\"],[1.0,\"#000031\"]],\"sequential\":[[0.0,\"#000011\"],[0.1111111111111111,\"#000012\"],[0.2222222222222222,\"#000013\"],[0.3333333333333333,\"#000014\"],[0.4444444444444444,\"#000015\"],[0.5555555555555556,\"#000016\"],[0.6666666666666666,\"#000017\"],[0.7777777777777778,\"#000018\"],[0.8888888888888888,\"#000019\"],[1.0,\"#000020\"]],\"sequentialminus\":[[0.0,\"#000011\"],[0.1111111111111111,\"#000012\"],[0.2222222222222222,\"#000013\"],[0.3333333333333333,\"#000014\"],[0.4444444444444444,\"#000015\"],[0.5555555555555556,\"#000016\"],[0.6666666666666666,\"#000017\"],[0.7777777777777778,\"#000018\"],[0.8888888888888888,\"#000019\"],[1.0,\"#000020\"]]},\"colorway\":[\"#000001\",\"#000002\",\"#000003\",\"#000004\",\"#000005\",\"#000006\",\"#000007\",\"#000008\",\"#000009\",\"#000010\"]}},\"coloraxis\":{\"colorbar\":{\"title\":{\"text\":\"Renewable_Energy_pct\"}},\"colorscale\":[[0.0,\"rgb(247,252,245)\"],[0.125,\"rgb(229,245,224)\"],[0.25,\"rgb(199,233,192)\"],[0.375,\"rgb(161,217,155)\"],[0.5,\"rgb(116,196,118)\"],[0.625,\"rgb(65,171,93)\"],[0.75,\"rgb(35,139,69)\"],[0.875,\"rgb(0,109,44)\"],[1.0,\"rgb(0,68,27)\"]]},\"legend\":{\"tracegroupgap\":0},\"title\":{\"text\":\"Renewable Energy Contribution by Country (2024)\",\"font\":{\"family\":\"Times New Roman\",\"size\":18,\"color\":\"#111111\"}},\"font\":{\"family\":\"Times New Roman\",\"size\":14,\"color\":\"#111111\"},\"width\":1000,\"height\":650},                        {\"responsive\": true}                    ).then(function(){\n",
       "                            \n",
       "var gd = document.getElementById('4beb348d-755e-497b-b545-699746ef8bbd');\n",
       "var x = new MutationObserver(function (mutations, observer) {{\n",
       "        var display = window.getComputedStyle(gd).display;\n",
       "        if (!display || display === 'none') {{\n",
       "            console.log([gd, 'removed!']);\n",
       "            Plotly.purge(gd);\n",
       "            observer.disconnect();\n",
       "        }}\n",
       "}});\n",
       "\n",
       "// Listen for the removal of the full notebook cells\n",
       "var notebookContainer = gd.closest('#notebook-container');\n",
       "if (notebookContainer) {{\n",
       "    x.observe(notebookContainer, {childList: true});\n",
       "}}\n",
       "\n",
       "// Listen for the clearing of the current output cell\n",
       "var outputEl = gd.closest('.output');\n",
       "if (outputEl) {{\n",
       "    x.observe(outputEl, {childList: true});\n",
       "}}\n",
       "\n",
       "                        })                };                });            </script>        </div>"
      ]
     },
     "metadata": {},
     "output_type": "display_data"
    }
   ],
   "source": [
    "import plotly.express as px\n",
    "\n",
    "# Ensure the 'Year' column is numeric\n",
    "df['Year'] = pd.to_numeric(df['Year'], errors='coerce')\n",
    "\n",
    "# Use the most recent year in the dataset\n",
    "latest_year = df['Year'].max()\n",
    "latest_data = df[df['Year'] == latest_year]\n",
    "\n",
    "# Create the treemap\n",
    "fig = px.treemap(\n",
    "    latest_data,\n",
    "    path=['Country'],\n",
    "    values='Renewable_Energy_pct',\n",
    "    title=f\"Renewable Energy Contribution by Country ({int(latest_year)})\",\n",
    "    color='Renewable_Energy_pct',\n",
    "    color_continuous_scale='Greens'\n",
    ")\n",
    "\n",
    "# Adjust layout\n",
    "fig.update_layout(\n",
    "    width=1000,\n",
    "    height=650,\n",
    "    font=dict(family=\"Times New Roman\", size=14, color=\"#111111\"),\n",
    "    title_font=dict(family=\"Times New Roman\", size=18, color=\"#111111\")\n",
    ")\n",
    "\n",
    "fig.show()"
   ]
  },
  {
   "cell_type": "markdown",
   "id": "fc160cdb-836e-4ff6-8d51-32e88d409945",
   "metadata": {},
   "source": [
    "## Method"
   ]
  },
  {
   "cell_type": "markdown",
   "id": "8da4b82a-41a4-42a2-be26-013109cd36cc",
   "metadata": {},
   "source": [
    "To understand how different countries are progressing toward clean energy goals, we used a dataset containing annual renewable energy usage statistics for many nations. From this data, we focused on the most recent year available, which offers the latest global snapshot of renewable energy adoption."
   ]
  },
  {
   "cell_type": "markdown",
   "id": "a153ac54-f33b-455f-9161-4cbe0fe70db0",
   "metadata": {},
   "source": [
    "We used this data to create a treemap, a visual representation that shows each country as a rectangle. The size of each rectangle corresponds to that country's share of renewable energy usage, and the color intensity reinforces this, with darker greens indicating higher usage of renewables."
   ]
  },
  {
   "cell_type": "markdown",
   "id": "5a6cc7b6-f44c-4059-bdb8-408be6477b67",
   "metadata": {},
   "source": [
    "This method helps simplify complex, multi-country data into a single visual space. Unlike traditional bar charts or tables, a treemap allows for:\n",
    "\n",
    "- Quick visual comparison between countries,\n",
    "- Clear emphasis on leaders and laggards\n",
    "- A geographical view not influenced by continent or region, but by performance."
   ]
  },
  {
   "cell_type": "markdown",
   "id": "ba489821-587b-403f-a8b2-220e2485695d",
   "metadata": {},
   "source": [
    "We can easily observe which countries are at the forefront of sustainability efforts and which have potential for growth. This helps policymakers, educators, and the public better grasp the global energy landscape at a glance."
   ]
  },
  {
   "cell_type": "markdown",
   "id": "ae5708a4-1db2-4b4f-9158-14d6ebf8d40f",
   "metadata": {},
   "source": [
    "## Explanation"
   ]
  },
  {
   "cell_type": "markdown",
   "id": "2569acfd-b1f0-4a4f-9a9e-43245a0225fd",
   "metadata": {},
   "source": [
    "This treemap presents how much renewable energy each country contributes based on its share of renewable energy usage (as a percentage of its own total energy use). Each rectangle represents a country, and its size corresponds to how high that percentage is. The greener the shade, the higher the percentage.\n",
    "\n",
    "- Larger blocks indicate countries with a higher renewable energy percentage.\n",
    "- Color depth (shades of green) provides a second cue: darker green means greater reliance on renewables.\n",
    "- Hover labels allow you to interactively inspect each country's exact percentage."
   ]
  },
  {
   "cell_type": "markdown",
   "id": "d769520a-e874-4500-ac5e-a9d87cc3482d",
   "metadata": {},
   "source": [
    "This visualization highlights the global disparity in renewable energy adoption. Countries with abundant hydroelectric, wind, or solar resources as well as strong policy dominate in both size and color intensity.\n",
    "\n",
    "- Spot leaders in clean energy transition.\n",
    "- Identify countries with room for improvement.\n",
    "- Encourage comparison among nations with similar economic profiles."
   ]
  },
  {
   "cell_type": "markdown",
   "id": "1949a46b-3e16-47b9-8fe0-9f094e4ae8b6",
   "metadata": {},
   "source": [
    "The visuallization helps:\n",
    "\n",
    "- Support policy discussions around global energy equity.\n",
    "- Explore investment or development opportunities in clean energy.\n",
    "- Present geographic insights in sustainability-focused reports or research."
   ]
  },
  {
   "cell_type": "code",
   "execution_count": null,
   "id": "0cc28a76-a335-4211-8c28-f11df3e565bd",
   "metadata": {},
   "outputs": [],
   "source": []
  },
  {
   "cell_type": "markdown",
   "id": "523a807d-09ae-4f99-9d97-bdada5db9a80",
   "metadata": {},
   "source": [
    "## Visualization 3 - CO₂ Emissions vs Renewable Share"
   ]
  },
  {
   "cell_type": "code",
   "execution_count": 53,
   "id": "7ff490d5-ac59-4cb0-a4e9-914113c42041",
   "metadata": {
    "scrolled": true
   },
   "outputs": [
    {
     "data": {
      "image/png": "[encoded data removed]",
      "text/plain": [
       "<Figure size 1440x800 with 6 Axes>"
      ]
     },
     "metadata": {},
     "output_type": "display_data"
    }
   ],
   "source": [
    "import pandas as pd\n",
    "import matplotlib.pyplot as plt\n",
    "import seaborn as sns\n",
    "\n",
    "# For Jupyter Notebooks: ensure inline rendering\n",
    "%matplotlib inline\n",
    "\n",
    "# Load the dataset\n",
    "df = pd.read_csv(\"update_temperature.csv\")\n",
    "\n",
    "# Convert relevant columns to numeric\n",
    "df['Renewable_Energy_pct'] = pd.to_numeric(df['Renewable_Energy_pct'], errors='coerce')\n",
    "df['CO2_Emissions_tons_per_capita'] = pd.to_numeric(df['CO2_Emissions_tons_per_capita'], errors='coerce')\n",
    "\n",
    "# Drop rows with missing values\n",
    "df.dropna(subset=['Renewable_Energy_pct', 'CO2_Emissions_tons_per_capita'], inplace=True)\n",
    "\n",
    "# Get top 6 countries by average renewable energy usage\n",
    "top_countries = (\n",
    "    df.groupby('Country')['Renewable_Energy_pct']\n",
    "    .max()\n",
    "    .nlargest(6)\n",
    "    .index\n",
    ")\n",
    "subset = df[df['Country'].isin(top_countries)]\n",
    "\n",
    "# Seaborn theme\n",
    "sns.set_theme(style=\"whitegrid\")\n",
    "\n",
    "# Create faceted regression plots\n",
    "g = sns.lmplot(\n",
    "    data=subset,\n",
    "    x='Renewable_Energy_pct',\n",
    "    y='CO2_Emissions_tons_per_capita',\n",
    "    col='Country',\n",
    "    col_wrap=3,\n",
    "    height=4,\n",
    "    aspect=1.2,\n",
    "    scatter_kws={'alpha': 0.5, 's': 40},\n",
    "    line_kws={'color': 'red'}\n",
    ")\n",
    "\n",
    "# Labels\n",
    "g.set_axis_labels(\"Renewable Energy Usage (%)\", r\"CO$_2$ Emissions per Capita (tons)\", fontname=\"Times New Roman\", fontsize=14)\n",
    "g.set_titles(col_template=\"{col_name}\", size=14, fontname=\"Times New Roman\")\n",
    "g.fig.suptitle(\n",
    "    \"CO₂ Emissions vs Renewable Share\",\n",
    "    fontsize=14,\n",
    "    fontname=\"Times New Roman\"\n",
    ")\n",
    "\n",
    "# Standardize x-axis\n",
    "g.set(xlim=(0, 100))\n",
    "\n",
    "g.fig.subplots_adjust(top=0.88)\n",
    "g.savefig(\"renewable_vs_co2_by_country.png\", dpi=300, bbox_inches='tight')\n",
    "plt.tight_layout()\n",
    "plt.show()"
   ]
  },
  {
   "cell_type": "markdown",
   "id": "69e5bda8-176f-49bd-85a7-133f96486428",
   "metadata": {},
   "source": [
    "## Method"
   ]
  },
  {
   "cell_type": "markdown",
   "id": "ea1528ba-16cc-4233-8178-f6bafd8bb1cc",
   "metadata": {},
   "source": [
    "We explore the relationship between renewable energy usage and CO₂ emissions per capita in the top 6 countries that lead in renewable energy adoption. This helps evaluate whether higher renewable energy shares are associated with lower carbon emissions at the national level."
   ]
  },
  {
   "cell_type": "markdown",
   "id": "54bf03de-4737-4ae8-ba9e-32830f3adff5",
   "metadata": {},
   "source": [
    "Allows us to see whether high renewable energy adoption correlates with decreased CO₂ emissions. Faceting by country reveals whether the relationship is consistent across different national contexts. Regression lines help identify the direction and strength of the relationship (e.g., negative slope suggests higher renewables lead to lower emissions)."
   ]
  },
  {
   "cell_type": "markdown",
   "id": "ab74772f-9850-4013-a753-1e62e1268ba0",
   "metadata": {},
   "source": [
    "This faceted regression plot is designed to visually compare how renewable energy usage impacts CO₂ emissions across different national contexts. It reveals:\n",
    "\n",
    "Diverse relationships:\n",
    "\n",
    "- Negative slopes → renewable usage likely contributing to emission reductions\n",
    "- Flat slopes → minimal impact or data complexity\n",
    "- Positive slopes (rare) → possible anomalies or opposing forces at play"
   ]
  },
  {
   "cell_type": "markdown",
   "id": "c651b3e2-6e39-4636-a1a9-d3b7e164b875",
   "metadata": {},
   "source": [
    "## Explanation"
   ]
  },
  {
   "cell_type": "markdown",
   "id": "1f4686af-c3de-43e3-8797-95000b3459c2",
   "metadata": {},
   "source": [
    "In many of the countries, the regression lines show a downward trend, suggesting that as renewable energy usage increases, CO₂ emissions per capita tend to decrease. This implies that increased reliance on renewables may indeed be contributing to lower carbon footprints. The steepness of the regression line varies across countries. A steeper negative slope may indicate a stronger dependency of emissions on renewable energy trends, while a flatter line suggests other factors (like industrial activity, fossil fuel exports, or population size) also play significant roles."
   ]
  },
  {
   "cell_type": "markdown",
   "id": "e11aebd1-0f8e-40e0-8ec8-1d967d0c8ea9",
   "metadata": {},
   "source": [
    "Countries with a negative slope suggest that increasing renewable energy usage is associated with lower CO₂ emissions per capita, a sign of effective climate policies. In contrast, countries with a flat or positive slope may show no clear link between renewables and emissions, potentially due to:\n",
    "\n",
    "- High industrial activity or fossil fuel exports\n",
    "- Incomplete energy transitions\n",
    "- Overreliance on non-renewable sources despite renewable growth\n",
    "\n",
    "Variations in slope direction provide insight into how effective renewable energy strategies are within national contexts."
   ]
  },
  {
   "cell_type": "markdown",
   "id": "69aed021-822b-4bf6-8eb5-53299463d0e3",
   "metadata": {},
   "source": [
    "In certain subplots, the data points appear more dispersed, indicating that while renewables play a role, emissions in those countries may be affected by additional complex variables such as:\n",
    "\n",
    "- Economic growth\n",
    "- Energy consumption patterns\n",
    "- Transportation and industrial emissions\n",
    "- Policy lag or inconsistency.\n",
    "\n",
    "The variability among countries reinforces that no single solution fits all, and each nation’s energy-emissions relationship is shaped by its unique economic and environmental context."
   ]
  },
  {
   "cell_type": "code",
   "execution_count": null,
   "id": "fc98ae99-e5ad-4239-8d81-48bddb3fcbfc",
   "metadata": {},
   "outputs": [],
   "source": []
  }
 ],
 "metadata": {
  "kernelspec": {
   "display_name": "Python 3 (ipykernel)",
   "language": "python",
   "name": "python3"
  },
  "language_info": {
   "codemirror_mode": {
    "name": "ipython",
    "version": 3
   },
   "file_extension": ".py",
   "mimetype": "text/x-python",
   "name": "python",
   "nbconvert_exporter": "python",
   "pygments_lexer": "ipython3",
   "version": "3.12.3"
  }
 },
 "nbformat": 4,
 "nbformat_minor": 5
}
